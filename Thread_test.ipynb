{
 "cells": [
  {
   "cell_type": "code",
   "execution_count": 4,
   "metadata": {},
   "outputs": [],
   "source": [
    "import sys\n",
    "import time,os,math"
   ]
  },
  {
   "cell_type": "code",
   "execution_count": 2,
   "metadata": {},
   "outputs": [
    {
     "name": "stdout",
     "output_type": "stream",
     "text": [
      "Python version: 3.12.6 (tags/v3.12.6:a4a2d2b, Sep  6 2024, 20:11:23) [MSC v.1940 64 bit (AMD64)]\n",
      "Total execution time for compute_task: 22.1814 seconds\n",
      "Total execution time for fetch_url: 4.5743 seconds\n"
     ]
    }
   ],
   "source": [
    "import sys\n",
    "import time\n",
    "import requests\n",
    "import threading\n",
    "\n",
    "# 例子：输出 Python 版本\n",
    "print(f\"Python version: {sys.version}\")\n",
    "\n",
    "# 模拟任务\n",
    "def compute_task():\n",
    "    total = 0\n",
    "    for i in range(10**7):\n",
    "        total += i\n",
    "\n",
    "# 记录开始时间\n",
    "start_time = time.time()\n",
    "\n",
    "# 创建并启动线程\n",
    "threads = [threading.Thread(target=compute_task) for _ in range(100)]\n",
    "for thread in threads:\n",
    "    thread.start()\n",
    "\n",
    "for thread in threads:\n",
    "    thread.join()\n",
    "\n",
    "# 记录结束时间\n",
    "end_time = time.time()\n",
    "\n",
    "# 输出执行时间\n",
    "print(f\"Total execution time for compute_task: {end_time - start_time:.4f} seconds\")\n",
    "\n",
    "\n",
    "def fetch_url():\n",
    "    response = requests.get('https://example.com')\n",
    "    return response.content\n",
    "\n",
    "# 记录开始时间\n",
    "start_time = time.time()\n",
    "\n",
    "# 创建并启动线程\n",
    "threads = [threading.Thread(target=fetch_url) for _ in range(200)]\n",
    "for thread in threads:\n",
    "    thread.start()\n",
    "\n",
    "for thread in threads:\n",
    "    thread.join()\n",
    "\n",
    "# 记录结束时间\n",
    "end_time = time.time()\n",
    "\n",
    "# 输出执行时间\n",
    "print(f\"Total execution time for fetch_url: {end_time - start_time:.4f} seconds\")\n",
    "\n"
   ]
  },
  {
   "attachments": {},
   "cell_type": "markdown",
   "metadata": {},
   "source": [
    "# without freethreads GIL on\n",
    "Python version: 3.13.0 (tags/v3.13.0:60403a5, Oct  7 2024, 09:38:07) [MSC v.1941 64 bit (AMD64)]\n",
    "\n",
    "- Total execution time for compute_task: 19.7159 seconds\n",
    "\n",
    "- Total execution time for fetch_url: 1.8692 seconds"
   ]
  },
  {
   "attachments": {},
   "cell_type": "markdown",
   "metadata": {},
   "source": [
    "# with freethreads GIL off\n",
    "Python version: 3.13.0 experimental free-threading build (tags/v3.13.0:60403a5, Oct  7 2024, 09:53:29) [MSC v.1941 64 bit (AMD64)]\n",
    "- Total execution time for compute_task: 2.6479 seconds\n",
    "\n",
    "- Total execution time for fetch_url: 0.4737 seconds"
   ]
  },
  {
   "attachments": {},
   "cell_type": "markdown",
   "metadata": {},
   "source": [
    "# python3.11\n",
    "Python version: 3.11.0 (main, Oct 24 2022, 18:26:48) [MSC v.1933 64 bit (AMD64)]\n",
    "- Total execution time for compute_task: 21.6612 seconds\n",
    "\n",
    "- Total execution time for fetch_url: 1.9061 seconds"
   ]
  },
  {
   "cell_type": "code",
   "execution_count": 5,
   "metadata": {},
   "outputs": [],
   "source": [
    "def deco_count_time(func):\n",
    "    def wrapper(*args, **kwargs):\n",
    "        start_time = time.time()\n",
    "        result = func(*args, **kwargs)\n",
    "        end_time = time.time()\n",
    "        time_elapse = end_time - start_time\n",
    "        print(f'Function {func.__name__:*^20} cost: {time_elapse:.4f} s')\n",
    "        return result\n",
    "    return wrapper\n",
    "\n",
    "@deco_count_time\n",
    "def find_n_prime(n: int = 100):\n",
    "    x = 2\n",
    "    num = 0\n",
    "    prime_list = list()\n",
    "    while True:\n",
    "        x += 1\n",
    "        for y in range(2, int(math.sqrt(x)) + 1):\n",
    "            if x % y == 0:\n",
    "                break\n",
    "            else:\n",
    "                if y == int(math.sqrt(x)):\n",
    "                    # print(f'find a prime: {x}')\n",
    "                    prime_list.append(x)\n",
    "                    num += 1\n",
    "\n",
    "        # print(f'now check: {x}')\n",
    "        if num == n:\n",
    "            # print(prime_list,len(prime_list))\n",
    "            break\n",
    "    return prime_list"
   ]
  },
  {
   "cell_type": "code",
   "execution_count": 10,
   "metadata": {},
   "outputs": [
    {
     "name": "stdout",
     "output_type": "stream",
     "text": [
      "Function ****find_n_prime**** cost: 10.0889 s\n"
     ]
    }
   ],
   "source": [
    "prime_list=find_n_prime(100000)"
   ]
  },
  {
   "attachments": {},
   "cell_type": "markdown",
   "metadata": {},
   "source": [
    "Python version: 3.12.6 (tags/v3.12.6:a4a2d2b, Sep  6 2024, 20:11:23) [MSC v.1940 64 bit (AMD64)]\n",
    "Total execution time for compute_task: 27.4709 seconds\n",
    "Total execution time for fetch_url: 0.6082 seconds"
   ]
  },
  {
   "attachments": {},
   "cell_type": "markdown",
   "metadata": {},
   "source": [
    "Python version: 3.13.0 experimental free-threading build (tags/v3.13.0:60403a5, Oct  7 2024, 09:53:29) [MSC v.1941 64 bit (AMD64)]\n",
    "Total execution time for compute_task: 4.6549 seconds\n",
    "Total execution time for fetch_url: 0.4664 seconds"
   ]
  }
 ],
 "metadata": {
  "kernelspec": {
   "display_name": "Python 3",
   "language": "python",
   "name": "python3"
  },
  "language_info": {
   "codemirror_mode": {
    "name": "ipython",
    "version": 3
   },
   "file_extension": ".py",
   "mimetype": "text/x-python",
   "name": "python",
   "nbconvert_exporter": "python",
   "pygments_lexer": "ipython3",
   "version": "3.12.6"
  },
  "orig_nbformat": 4
 },
 "nbformat": 4,
 "nbformat_minor": 2
}
